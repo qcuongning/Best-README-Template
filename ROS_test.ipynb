{
  "nbformat": 4,
  "nbformat_minor": 0,
  "metadata": {
    "colab": {
      "provenance": [],
      "authorship_tag": "ABX9TyPDRS5r+vYedqNbdKRAliM6",
      "include_colab_link": true
    },
    "kernelspec": {
      "name": "python3",
      "display_name": "Python 3"
    },
    "language_info": {
      "name": "python"
    },
    "accelerator": "GPU",
    "gpuClass": "standard"
  },
  "cells": [
    {
      "cell_type": "markdown",
      "metadata": {
        "id": "view-in-github",
        "colab_type": "text"
      },
      "source": [
        "<a href=\"https://colab.research.google.com/github/qcuongning/Best-README-Template/blob/master/ROS_test.ipynb\" target=\"_parent\"><img src=\"https://colab.research.google.com/assets/colab-badge.svg\" alt=\"Open In Colab\"/></a>"
      ]
    },
    {
      "cell_type": "code",
      "source": [
        "!git clone https://github.com/binance/binance-connector-python.git"
      ],
      "metadata": {
        "colab": {
          "base_uri": "https://localhost:8080/"
        },
        "id": "sHF6ADXZXicR",
        "outputId": "4c142dd4-c24c-42d7-fdd7-1482eac87323"
      },
      "execution_count": 1,
      "outputs": [
        {
          "output_type": "stream",
          "name": "stdout",
          "text": [
            "Cloning into 'binance-connector-python'...\n",
            "remote: Enumerating objects: 2754, done.\u001b[K\n",
            "remote: Counting objects: 100% (987/987), done.\u001b[K\n",
            "remote: Compressing objects: 100% (349/349), done.\u001b[K\n",
            "remote: Total 2754 (delta 792), reused 715 (delta 626), pack-reused 1767\u001b[K\n",
            "Receiving objects: 100% (2754/2754), 542.05 KiB | 5.77 MiB/s, done.\n",
            "Resolving deltas: 100% (2133/2133), done.\n"
          ]
        }
      ]
    }
  ]
}